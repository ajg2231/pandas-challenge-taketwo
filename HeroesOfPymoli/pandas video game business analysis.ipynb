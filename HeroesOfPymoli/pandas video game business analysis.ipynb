{
 "cells": [
  {
   "cell_type": "code",
   "execution_count": 1,
   "metadata": {},
   "outputs": [],
   "source": [
    "import pandas as pd\n",
    "\n",
    "file = \"/Users/alexandergoldstein/Downloads/04-Pandas_Homework_HeroesOfPymoli_Resources_purchase_data.csv\"\n",
    "\n",
    "data = pd.read_csv(file) #loads data into jupyter notebook"
   ]
  },
  {
   "cell_type": "code",
   "execution_count": 18,
   "metadata": {},
   "outputs": [
    {
     "name": "stdout",
     "output_type": "stream",
     "text": [
      "780\n",
      "1013\n"
     ]
    }
   ],
   "source": [
    "index = data.index\n",
    "\n",
    "players = len(index)\n",
    "\n",
    "purchases = data[\"Item Name\"].str.count(',')\n",
    "\n",
    "SumPurchases = sum(purchases) + players\n",
    "\n",
    "print(players) \n",
    "print(SumPurchases) #returns total number of players & purchases"
   ]
  },
  {
   "cell_type": "code",
   "execution_count": 3,
   "metadata": {},
   "outputs": [
    {
     "name": "stdout",
     "output_type": "stream",
     "text": [
      "179\n"
     ]
    }
   ],
   "source": [
    "data1 = data.drop_duplicates(subset = 'Item Name', keep=\"first\")\n",
    "\n",
    "index1 = data1.index\n",
    "\n",
    "unique = len(index1)\n",
    "\n",
    "print(unique) #returns total number of unique items"
   ]
  },
  {
   "cell_type": "code",
   "execution_count": 4,
   "metadata": {},
   "outputs": [
    {
     "name": "stdout",
     "output_type": "stream",
     "text": [
      "3.050987179487176\n"
     ]
    }
   ],
   "source": [
    "avg_price = data[\"Price\"].mean()\n",
    "\n",
    "print(avg_price) #returns average purchase price"
   ]
  },
  {
   "cell_type": "code",
   "execution_count": 6,
   "metadata": {},
   "outputs": [
    {
     "name": "stdout",
     "output_type": "stream",
     "text": [
      "2379.7699999999973\n"
     ]
    }
   ],
   "source": [
    "revenue = avg_price * purchases\n",
    "\n",
    "print(revenue) #returns total revenue"
   ]
  },
  {
   "cell_type": "code",
   "execution_count": 14,
   "metadata": {
    "scrolled": true
   },
   "outputs": [
    {
     "name": "stdout",
     "output_type": "stream",
     "text": [
      "652 83.58974358974359\n",
      "113 14.487179487179489\n",
      "15 1.9230769230769231\n"
     ]
    }
   ],
   "source": [
    "data2 = data.loc[data[\"Gender\"] == \"Male\"]\n",
    "data3 = data.loc[data[\"Gender\"] == \"Female\"]\n",
    "data4 = data.loc[data[\"Gender\"] == \"Other / Non-Disclosed\"]\n",
    "\n",
    "index2 = data2.index\n",
    "index3 = data3.index\n",
    "index4 = data4.index\n",
    "\n",
    "Men = len(index2)\n",
    "Women = len(index3)\n",
    "Unknown = len(index4)\n",
    "\n",
    "Total = Men + Women + Unknown\n",
    "\n",
    "PercentMen = Men / Total * 100\n",
    "PercentWomen = Women / Total * 100\n",
    "PercentUnknown = Unknown / Total * 100\n",
    "\n",
    "print(Men, PercentMen) \n",
    "print(Women, PercentWomen) \n",
    "print(Unknown, PercentUnknown) #returns totals of men, women, and unknowns, with accompanying percentages\n"
   ]
  },
  {
   "cell_type": "code",
   "execution_count": 51,
   "metadata": {},
   "outputs": [
    {
     "name": "stdout",
     "output_type": "stream",
     "text": [
      "652 113 15\n",
      "3.0178527607361953 3.203008849557519 3.3460000000000005\n",
      "1967.6399999999994 361.93999999999966 50.190000000000005\n",
      "1.3471074380165289 1.3950617283950617 1.3636363636363635\n"
     ]
    }
   ],
   "source": [
    "avg_price1 = data2[\"Price\"].mean()\n",
    "avg_price2 = data3[\"Price\"].mean()\n",
    "avg_price3 = data4[\"Price\"].mean()\n",
    "\n",
    "MenRevenue = avg_price1 * Men\n",
    "WomenRevenue = avg_price2 * Women\n",
    "UnknownRevenue = avg_price3 * Unknown\n",
    "\n",
    "print(Men, Women, Unknown) #Returns Total Purchases By Gender\n",
    "print(avg_price1, avg_price2, avg_price3) #Returns Average Money Spent By Gender\n",
    "print(MenRevenue, WomenRevenue, UnknownRevenue) #Returns Total Revenue By Gender\n",
    "\n",
    "dataA = data2.drop_duplicates(subset = 'SN', keep=\"first\")\n",
    "lendataA = len(dataA)\n",
    "\n",
    "dataB = data3.drop_duplicates(subset = 'SN', keep=\"first\")\n",
    "lendataB = len(dataB)\n",
    "\n",
    "dataC = data4.drop_duplicates(subset = 'SN', keep=\"first\")\n",
    "lendataC = len(dataC)\n",
    "\n",
    "avrgMen = Men/lendataA\n",
    "avrgWomen = Women/lendataB\n",
    "avrgUnknown = Unknown/lendataC\n",
    "print(avrgMen, avrgWomen, avrgUnknown) #Returns Average Purchase Total Per Person By Gender"
   ]
  },
  {
   "cell_type": "code",
   "execution_count": 53,
   "metadata": {
    "scrolled": true
   },
   "outputs": [
    {
     "name": "stdout",
     "output_type": "stream",
     "text": [
      "23 164 466 114 13\n",
      "1.3529411764705883 1.2713178294573644 1.391044776119403 1.3734939759036144 1.0833333333333333\n",
      "3.353478260869565 3.022378048780487 3.019442060085839 3.172543859649123 2.9415384615384617\n",
      "77.13 495.66999999999985 1407.060000000001 361.67 38.24\n"
     ]
    }
   ],
   "source": [
    "data5 = data.loc[data[\"Age\"] < 10]\n",
    "data6 = data[data['Age'].between(10, 19)]\n",
    "data7 = data[data['Age'].between(20, 29)]\n",
    "data8 = data[data['Age'].between(30, 39)]\n",
    "data9 = data.loc[data[\"Age\"] > 39]\n",
    "\n",
    "index5 = len(data5.index)\n",
    "index6 = len(data6.index)\n",
    "index7 = len(data7.index)\n",
    "index8 = len(data8.index)\n",
    "index9 = len(data9.index)\n",
    "\n",
    "avg_price4 = data5[\"Price\"].mean()\n",
    "avg_price5 = data6[\"Price\"].mean()\n",
    "avg_price6 = data7[\"Price\"].mean()\n",
    "avg_price7 = data8[\"Price\"].mean()\n",
    "avg_price8 = data9[\"Price\"].mean()\n",
    "\n",
    "TykeRevenue1 = avg_price4 * index5\n",
    "TykeRevenue2 = avg_price5 * index6\n",
    "TykeRevenue3 = avg_price6 * index7\n",
    "TykeRevenue4 = avg_price7 * index8\n",
    "TykeRevenue5 = avg_price8 * index9\n",
    "\n",
    "TykePurchases1 = index5/len(data5.drop_duplicates(subset = 'SN', keep='first'))\n",
    "TykePurchases2 = index6/len(data6.drop_duplicates(subset = 'SN', keep='first'))\n",
    "TykePurchases3 = index7/len(data7.drop_duplicates(subset = 'SN', keep='first'))\n",
    "TykePurchases4 = index8/len(data8.drop_duplicates(subset = 'SN', keep='first'))\n",
    "TykePurchases5 = index9/len(data9.drop_duplicates(subset = 'SN', keep='first')) \n",
    "\n",
    "print(index5, index6, index7, index8, index9)\n",
    "print(TykePurchases1, TykePurchases2, TykePurchases3, TykePurchases4, TykePurchases5)\n",
    "print(avg_price4, avg_price5, avg_price6, avg_price7, avg_price8)\n",
    "print(TykeRevenue1, TykeRevenue2, TykeRevenue3, TykeRevenue4, TykeRevenue5)\n",
    " #Prints the same values as above, but for age demographics\n",
    "\n",
    "\n"
   ]
  },
  {
   "cell_type": "code",
   "execution_count": 80,
   "metadata": {},
   "outputs": [
    {
     "name": "stdout",
     "output_type": "stream",
     "text": [
      "             Purchase ID  Age  Item ID  Price\n",
      "SN                                           \n",
      "Lisosia93           1630  125      442  18.96\n",
      "Idastidru52         1999   96      527  15.45\n",
      "Chamjask73          1306   66      339  13.83\n",
      "Iral74              2285   84      518  13.62\n",
      "Iskadarya95          713   60      321  13.10\n",
      "5 4 3 4 3\n",
      "3.7920000000000003 3.8625 4.61 3.4049999999999994 4.366666666666666\n"
     ]
    }
   ],
   "source": [
    "data10 = data.groupby([\"SN\"]).sum()\n",
    "TopFive = data10.nlargest(5, 'Price')\n",
    "print(TopFive) #returns 5 highest spenders and total purchase value\n",
    "\n",
    "data11 = data.loc[data[\"SN\"] == \"Lisosia93\"]\n",
    "data12 = data.loc[data[\"SN\"] == \"Idastidru52\"]\n",
    "data13 = data.loc[data[\"SN\"] == \"Chamjask73\"]\n",
    "data14 = data.loc[data[\"SN\"] == \"Iral74\"]\n",
    "data15 = data.loc[data[\"SN\"] == \"Iskadarya95\"]\n",
    "\n",
    "len11=len(data11.index)\n",
    "len12=len(data12.index)\n",
    "len13=len(data13.index)\n",
    "len14=len(data14.index)\n",
    "len15=len(data15.index)\n",
    "\n",
    "Sum1=sum(data11[\"Price\"])\n",
    "Sum2=sum(data12[\"Price\"])\n",
    "Sum3=sum(data13[\"Price\"])\n",
    "Sum4=sum(data14[\"Price\"])\n",
    "Sum5=sum(data15[\"Price\"])\n",
    "\n",
    "avgA=Sum1/len11\n",
    "avgB=Sum2/len12\n",
    "avgC=Sum3/len13\n",
    "avgD=Sum4/len14\n",
    "avgE=Sum5/len15\n",
    "\n",
    "print(len11, len12, len13, len14, len15) #returns total purchases for each player\n",
    "print(avgA, avgB, avgC, avgD, avgE) #returns average purchase value for each player"
   ]
  },
  {
   "cell_type": "code",
   "execution_count": 114,
   "metadata": {
    "scrolled": true
   },
   "outputs": [
    {
     "name": "stdout",
     "output_type": "stream",
     "text": [
      "Final Critic                                    13\n",
      "Oathbreaker, Last Hope of the Breaking Storm    12\n",
      "Fiery Glass Crusader                             9\n",
      "Extraction, Quickblade Of Trembling Hands        9\n",
      "Persuasion                                       9\n",
      "Name: Item Name, dtype: int64\n",
      "2      4.88\n",
      "99     4.19\n",
      "252    4.88\n",
      "273    4.88\n",
      "277    4.88\n",
      "411    4.19\n",
      "536    4.19\n",
      "712    4.88\n",
      "722    4.88\n",
      "767    4.88\n",
      "768    4.88\n",
      "774    4.19\n",
      "778    4.19\n",
      "Name: Price, dtype: float64 25     4.23\n",
      "61     4.23\n",
      "62     4.23\n",
      "72     4.23\n",
      "222    4.23\n",
      "464    4.23\n",
      "580    4.23\n",
      "627    4.23\n",
      "658    4.23\n",
      "706    4.23\n",
      "730    4.23\n",
      "753    4.23\n",
      "Name: Price, dtype: float64 132    4.58\n",
      "207    4.58\n",
      "329    4.58\n",
      "438    4.58\n",
      "474    4.58\n",
      "572    4.58\n",
      "683    4.58\n",
      "741    4.58\n",
      "769    4.58\n",
      "Name: Price, dtype: float64 0      3.53\n",
      "56     3.53\n",
      "157    3.53\n",
      "414    3.53\n",
      "483    3.53\n",
      "498    3.53\n",
      "558    3.53\n",
      "640    3.53\n",
      "678    3.53\n",
      "Name: Price, dtype: float64 24     3.19\n",
      "98     3.19\n",
      "261    3.19\n",
      "538    3.19\n",
      "587    3.19\n",
      "590    3.19\n",
      "603    3.19\n",
      "608    3.33\n",
      "651    3.33\n",
      "Name: Price, dtype: float64\n",
      "59.99 50.76000000000002 41.22 31.77 28.989999999999995\n"
     ]
    }
   ],
   "source": [
    "TopFive1 = data['Item Name'].value_counts()[:5].sort_values(ascending=False)\n",
    "print(TopFive1) #returns 5 most popular items\n",
    "\n",
    "datax = data.groupby(\"Item Name\")\n",
    "dataf = datax.get_group('Final Critic')\n",
    "datao = datax.get_group('Oathbreaker, Last Hope of the Breaking Storm')\n",
    "datafi = datax.get_group('Fiery Glass Crusader')\n",
    "datae = datax.get_group('Extraction, Quickblade Of Trembling Hands')\n",
    "datap = datax.get_group('Persuasion')\n",
    "\n",
    "aa = dataf[\"Price\"].sum()\n",
    "ab = datao[\"Price\"].sum()\n",
    "ac = datafi[\"Price\"].sum()\n",
    "ad = datae[\"Price\"].sum()\n",
    "ae = datap[\"Price\"].sum()\n",
    "\n",
    "print(dataf[\"Price\"], datao[\"Price\"], datafi[\"Price\"], datae[\"Price\"], datap[\"Price\"]) #prints the game prices\n",
    "print(aa, ab, ac, ad, ae) #prints the total purchase value"
   ]
  },
  {
   "cell_type": "code",
   "execution_count": 118,
   "metadata": {},
   "outputs": [
    {
     "name": "stdout",
     "output_type": "stream",
     "text": [
      "                                              Purchase ID  Age  Item ID  Price\n",
      "Item Name                                                                     \n",
      "Final Critic                                         6371  266     1196  59.99\n",
      "Oathbreaker, Last Hope of the Breaking Storm         4960  287     2136  50.76\n",
      "Nirvana                                              2761  215      738  44.10\n",
      "Fiery Glass Crusader                                 4345  187     1305  41.22\n",
      "Singed Scalpel                                       3947  178      824  34.80\n",
      "     Purchase ID            SN  Age  Gender  Item ID     Item Name  Price\n",
      "2              2    Ithergue48   24    Male       92  Final Critic   4.88\n",
      "99            99  Haisrisuir60   23    Male       92  Final Critic   4.19\n",
      "252          252      Tyaelo67   39    Male       92  Final Critic   4.88\n",
      "273          273      Phyali88   15  Female       92  Final Critic   4.88\n",
      "277          277    Ennalmol65   24    Male       92  Final Critic   4.88\n",
      "411          411      Lisico81   10    Male       92  Final Critic   4.19\n",
      "536          536   Siallylis44   20    Male       92  Final Critic   4.19\n",
      "712          712     Lisilsa62   25    Male       92  Final Critic   4.88\n",
      "722          722      Ilarin91   22    Male       92  Final Critic   4.88\n",
      "767          767       Ilmol66    8  Female       92  Final Critic   4.88\n",
      "768          768  Assassasta79   38    Male       92  Final Critic   4.88\n",
      "774          774    Jiskjask80   11    Male       92  Final Critic   4.19\n",
      "778          778       Sisur91    7    Male       92  Final Critic   4.19      Purchase ID              SN  Age  Gender  Item ID  \\\n",
      "25            25       Lisirra87   29    Male      178   \n",
      "61            61      Jiskimya77   17    Male      178   \n",
      "62            62      Yadaphos40   30    Male      178   \n",
      "72            72       Marilsa69   25  Female      178   \n",
      "222          222      Chamjask73   22  Female      178   \n",
      "464          464    Rianistast50   22    Male      178   \n",
      "580          580         Tyida79   24    Male      178   \n",
      "627          627          Arin32   25    Male      178   \n",
      "658          658      Quilassa66    7  Female      178   \n",
      "706          706   Chanossanya44   20    Male      178   \n",
      "730          730       Aidaira26   30    Male      178   \n",
      "753          753  Frichirranya75   36    Male      178   \n",
      "\n",
      "                                        Item Name  Price  \n",
      "25   Oathbreaker, Last Hope of the Breaking Storm   4.23  \n",
      "61   Oathbreaker, Last Hope of the Breaking Storm   4.23  \n",
      "62   Oathbreaker, Last Hope of the Breaking Storm   4.23  \n",
      "72   Oathbreaker, Last Hope of the Breaking Storm   4.23  \n",
      "222  Oathbreaker, Last Hope of the Breaking Storm   4.23  \n",
      "464  Oathbreaker, Last Hope of the Breaking Storm   4.23  \n",
      "580  Oathbreaker, Last Hope of the Breaking Storm   4.23  \n",
      "627  Oathbreaker, Last Hope of the Breaking Storm   4.23  \n",
      "658  Oathbreaker, Last Hope of the Breaking Storm   4.23  \n",
      "706  Oathbreaker, Last Hope of the Breaking Storm   4.23  \n",
      "730  Oathbreaker, Last Hope of the Breaking Storm   4.23  \n",
      "753  Oathbreaker, Last Hope of the Breaking Storm   4.23        Purchase ID             SN  Age  Gender  Item ID Item Name  Price\n",
      "18            18      Reunasu60   22  Female       82   Nirvana    4.9\n",
      "88            88     Laedallo55   30    Male       82   Nirvana    4.9\n",
      "202          202      Phistym51   37    Male       82   Nirvana    4.9\n",
      "240          240   Lirtastsda29   16    Male       82   Nirvana    4.9\n",
      "247          247    Iskadarya95   20    Male       82   Nirvana    4.9\n",
      "274          274  Aerithllora36   29  Female       82   Nirvana    4.9\n",
      "504          504   Chamilsala65   23  Female       82   Nirvana    4.9\n",
      "522          522    Meosridil82   18    Male       82   Nirvana    4.9\n",
      "666          666     Assilsan72   20  Female       82   Nirvana    4.9      Purchase ID             SN  Age  Gender  Item ID             Item Name  \\\n",
      "132          132      Inguron55   23    Male      145  Fiery Glass Crusader   \n",
      "207          207   Sondastsda82   24    Male      145  Fiery Glass Crusader   \n",
      "329          329       Ceoral34   20    Male      145  Fiery Glass Crusader   \n",
      "438          438      Qilunan34   23    Male      145  Fiery Glass Crusader   \n",
      "474          474          Ina92   31    Male      145  Fiery Glass Crusader   \n",
      "572          572  Yoishirrala98   17  Female      145  Fiery Glass Crusader   \n",
      "683          683      Ialallo29   15  Female      145  Fiery Glass Crusader   \n",
      "741          741   Phiallylis33   19    Male      145  Fiery Glass Crusader   \n",
      "769          769      Ilosian36   15    Male      145  Fiery Glass Crusader   \n",
      "\n",
      "     Price  \n",
      "132   4.58  \n",
      "207   4.58  \n",
      "329   4.58  \n",
      "438   4.58  \n",
      "474   4.58  \n",
      "572   4.58  \n",
      "683   4.58  \n",
      "741   4.58  \n",
      "769   4.58        Purchase ID            SN  Age  Gender  Item ID       Item Name  Price\n",
      "175          175      Indcil77   17    Male      103  Singed Scalpel   4.35\n",
      "373          373        Aina42   25    Male      103  Singed Scalpel   4.35\n",
      "455          455   Lisossala30   20    Male      103  Singed Scalpel   4.35\n",
      "460          460  Assistasda90   25    Male      103  Singed Scalpel   4.35\n",
      "476          476     Marassa62   21    Male      103  Singed Scalpel   4.35\n",
      "634          634       Eoral49   16    Male      103  Singed Scalpel   4.35\n",
      "660          660        Isri34   38    Male      103  Singed Scalpel   4.35\n",
      "714          714     Tyidaim51   16  Female      103  Singed Scalpel   4.35\n",
      "59.99 50.76000000000002 41.22 31.77 28.989999999999995\n"
     ]
    }
   ],
   "source": [
    "data16 = data.groupby([\"Item Name\"]).sum()\n",
    "TopFive2 = data16.nlargest(5, 'Price')\n",
    "print(TopFive2) #returns item name, ID, and total purchase value of five most valuable items\n",
    "\n",
    "datainfinity = data.groupby(\"Item Name\")\n",
    "\n",
    "dataf2 = datax.get_group('Final Critic')\n",
    "datao2 = datax.get_group('Oathbreaker, Last Hope of the Breaking Storm')\n",
    "datan = datax.get_group('Nirvana')\n",
    "datafi2 = datax.get_group('Fiery Glass Crusader')\n",
    "datas = datax.get_group('Singed Scalpel')\n",
    "\n",
    "ba = dataf[\"Price\"].sum()\n",
    "bb = datao[\"Price\"].sum()\n",
    "bc = datafi[\"Price\"].sum()\n",
    "bd = datae[\"Price\"].sum()\n",
    "be = datap[\"Price\"].sum()\n",
    "\n",
    "print(dataf2, datao2, datan, datafi2, datas) #returns purchase count\n",
    "print (ba, bb, bc, bd, be) # returns item price"
   ]
  },
  {
   "cell_type": "code",
   "execution_count": null,
   "metadata": {},
   "outputs": [],
   "source": []
  }
 ],
 "metadata": {
  "kernelspec": {
   "display_name": "Python 3",
   "language": "python",
   "name": "python3"
  },
  "language_info": {
   "codemirror_mode": {
    "name": "ipython",
    "version": 3
   },
   "file_extension": ".py",
   "mimetype": "text/x-python",
   "name": "python",
   "nbconvert_exporter": "python",
   "pygments_lexer": "ipython3",
   "version": "3.8.3"
  }
 },
 "nbformat": 4,
 "nbformat_minor": 4
}
